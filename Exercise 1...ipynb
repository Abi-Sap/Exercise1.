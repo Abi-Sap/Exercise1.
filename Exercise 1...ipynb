{
 "cells": [
  {
   "cell_type": "markdown",
   "id": "8ccb695b",
   "metadata": {},
   "source": [
    "## Exercise"
   ]
  },
  {
   "cell_type": "markdown",
   "id": "764d232d",
   "metadata": {},
   "source": [
    "### 1. Calculate the sum of two numbers using the addition operator."
   ]
  },
  {
   "cell_type": "code",
   "execution_count": 1,
   "id": "9b39716f-42e3-4da3-a4a4-59983c8c30e4",
   "metadata": {},
   "outputs": [
    {
     "name": "stdout",
     "output_type": "stream",
     "text": [
      "25\n"
     ]
    }
   ],
   "source": [
    "num1=20\n",
    "num2=5\n",
    "print(num1+num2)"
   ]
  },
  {
   "cell_type": "markdown",
   "id": "5c571a23-5f4a-4d4d-893f-b2bf83869faf",
   "metadata": {},
   "source": [
    "### 2. Find the difference between two numbers using the subtraction operator."
   ]
  },
  {
   "cell_type": "code",
   "execution_count": 3,
   "id": "976d5825-ce20-44bd-bf8e-57a042cf9ee9",
   "metadata": {},
   "outputs": [
    {
     "name": "stdout",
     "output_type": "stream",
     "text": [
      "15\n"
     ]
    }
   ],
   "source": [
    "print(num1-num2)"
   ]
  },
  {
   "cell_type": "markdown",
   "id": "1354fb83",
   "metadata": {},
   "source": [
    "### 3. Multiply two numbers using the multiplication operator."
   ]
  },
  {
   "cell_type": "code",
   "execution_count": 4,
   "id": "e7f68f2c-9c2f-4368-9e15-d867d843f054",
   "metadata": {},
   "outputs": [
    {
     "name": "stdout",
     "output_type": "stream",
     "text": [
      "100\n"
     ]
    }
   ],
   "source": [
    "print(num1*num2)"
   ]
  },
  {
   "cell_type": "markdown",
   "id": "e9a486b3-4fdf-42f6-9b9f-3addba03937f",
   "metadata": {},
   "source": [
    "### 4. Divide two numbers using the division operator."
   ]
  },
  {
   "cell_type": "code",
   "execution_count": 5,
   "id": "4735a22d-7227-49d9-80b6-d94ebe92dfb3",
   "metadata": {},
   "outputs": [
    {
     "name": "stdout",
     "output_type": "stream",
     "text": [
      "4.0\n"
     ]
    }
   ],
   "source": [
    "print(num1/num2)"
   ]
  },
  {
   "cell_type": "markdown",
   "id": "6c7e02ad-42aa-406f-b97f-8984b5f2bb82",
   "metadata": {},
   "source": [
    "### 5. Calculate the remainder when dividing one number by another using the modulo operator."
   ]
  },
  {
   "cell_type": "code",
   "execution_count": 6,
   "id": "4b741990-bbe2-40b9-80fd-4ad95998c01d",
   "metadata": {},
   "outputs": [
    {
     "name": "stdout",
     "output_type": "stream",
     "text": [
      "0\n"
     ]
    }
   ],
   "source": [
    "print(num1%num2)"
   ]
  },
  {
   "cell_type": "markdown",
   "id": "97782947-0b6c-4530-8ee7-2c08f1ee9237",
   "metadata": {},
   "source": [
    "### 6. Raise a number to a power using the exponentiation operator."
   ]
  },
  {
   "cell_type": "code",
   "execution_count": 7,
   "id": "1c5bed10-0a69-43ce-91c2-ef93f910a17e",
   "metadata": {},
   "outputs": [
    {
     "name": "stdout",
     "output_type": "stream",
     "text": [
      "95367431640625\n"
     ]
    }
   ],
   "source": [
    "print(num2**num1)"
   ]
  },
  {
   "cell_type": "markdown",
   "id": "67fda3d7-e4b9-4ce8-aabb-6fbefbe23316",
   "metadata": {},
   "source": [
    "### 7. Use logical operators to check if a number is divisible by both 3 and 5"
   ]
  },
  {
   "cell_type": "code",
   "execution_count": 9,
   "id": "8b10dfb3-f03d-4549-87ae-1459f019bfcf",
   "metadata": {},
   "outputs": [
    {
     "name": "stdout",
     "output_type": "stream",
     "text": [
      "False\n"
     ]
    }
   ],
   "source": [
    "divisible_num=(num1%3==0) and (num1%5==0)\n",
    "print(divisible_num)"
   ]
  },
  {
   "cell_type": "markdown",
   "id": "9876f259-850c-440d-828f-df5037ff1a1c",
   "metadata": {},
   "source": [
    "### 8. Check if two numbers are equal using the equality operator."
   ]
  },
  {
   "cell_type": "code",
   "execution_count": 10,
   "id": "bf0bb041-b628-4371-a5fc-29d65a28e2c9",
   "metadata": {},
   "outputs": [
    {
     "name": "stdout",
     "output_type": "stream",
     "text": [
      "False\n"
     ]
    }
   ],
   "source": [
    "print (num1==num2)"
   ]
  },
  {
   "cell_type": "markdown",
   "id": "5806628c-bc75-44ff-b505-e1adb41ba593",
   "metadata": {},
   "source": [
    "### 9. Check if one number is greater than another using the greater than operator."
   ]
  },
  {
   "cell_type": "code",
   "execution_count": 11,
   "id": "6bd0d8ea-a6db-4977-a874-f82f613482cf",
   "metadata": {},
   "outputs": [
    {
     "name": "stdout",
     "output_type": "stream",
     "text": [
      "True\n"
     ]
    }
   ],
   "source": [
    "print(num1>num2)"
   ]
  },
  {
   "cell_type": "markdown",
   "id": "e17b4dbf-3bc7-419a-9d4f-07d23a6a0282",
   "metadata": {},
   "source": [
    "### 10. Check if one number is less than another using the less than operator."
   ]
  },
  {
   "cell_type": "code",
   "execution_count": 13,
   "id": "03f9281d-ef25-4a2e-8ffd-2b166eb786ca",
   "metadata": {},
   "outputs": [
    {
     "name": "stdout",
     "output_type": "stream",
     "text": [
      "False\n"
     ]
    }
   ],
   "source": [
    "print(num1<num2)"
   ]
  },
  {
   "cell_type": "markdown",
   "id": "cdbe3b2c-d700-47fa-b728-fd4441a357b7",
   "metadata": {},
   "source": [
    "### 11. Check if one number is greater than or equal to another using the greater than or equal to operator."
   ]
  },
  {
   "cell_type": "code",
   "execution_count": 15,
   "id": "6fcabb22-d85c-4295-af2a-a6827deb1f87",
   "metadata": {},
   "outputs": [
    {
     "name": "stdout",
     "output_type": "stream",
     "text": [
      "True\n"
     ]
    }
   ],
   "source": [
    "print(num1>=num2)"
   ]
  },
  {
   "cell_type": "markdown",
   "id": "a6f45d59-61f2-49f8-8524-4b82d7a56339",
   "metadata": {},
   "source": [
    "### 12. Check if one number is less than or equal to another using the less than or equal to operator."
   ]
  },
  {
   "cell_type": "code",
   "execution_count": 17,
   "id": "ffd455a4-97fc-425f-bcfd-37394fc39ef3",
   "metadata": {},
   "outputs": [
    {
     "name": "stdout",
     "output_type": "stream",
     "text": [
      "False\n"
     ]
    }
   ],
   "source": [
    "print(num1<=num2)"
   ]
  },
  {
   "cell_type": "markdown",
   "id": "7ee092dc-9f74-442b-a2e4-0f5d09cf13a9",
   "metadata": {},
   "source": [
    "### 13. Check if two values are not equal using the not equal to operator."
   ]
  },
  {
   "cell_type": "code",
   "execution_count": 18,
   "id": "12e85d31-3816-41ac-93fd-13669c100083",
   "metadata": {},
   "outputs": [
    {
     "name": "stdout",
     "output_type": "stream",
     "text": [
      "True\n"
     ]
    }
   ],
   "source": [
    "print(num1!=num2)"
   ]
  },
  {
   "cell_type": "markdown",
   "id": "b5447697-f583-4d21-83e0-285b655d2812",
   "metadata": {},
   "source": [
    "### 14. Perform bitwise AND operation between two numbers using the bitwise AND operator."
   ]
  },
  {
   "cell_type": "code",
   "execution_count": 19,
   "id": "ea327e80-c39d-458b-b982-f46d989c538c",
   "metadata": {},
   "outputs": [
    {
     "name": "stdout",
     "output_type": "stream",
     "text": [
      "4\n"
     ]
    }
   ],
   "source": [
    "print(num1&num2)"
   ]
  },
  {
   "cell_type": "markdown",
   "id": "275c6bb4-a0a6-41af-8017-00451d01201b",
   "metadata": {},
   "source": [
    "### 15. Perform bitwise OR operation between two numbers using the bitwise OR operator."
   ]
  },
  {
   "cell_type": "code",
   "execution_count": 20,
   "id": "a28ee8ef-2e52-4711-b2ae-d0424c0a2bda",
   "metadata": {},
   "outputs": [
    {
     "name": "stdout",
     "output_type": "stream",
     "text": [
      "21\n"
     ]
    }
   ],
   "source": [
    "print(num1|num2)"
   ]
  },
  {
   "cell_type": "markdown",
   "id": "f9605342-5d8d-49ac-b340-8a7fa67c478f",
   "metadata": {},
   "source": [
    "### 16. Perform bitwise XOR operation between two numbers using the bitwise XOR operator."
   ]
  },
  {
   "cell_type": "code",
   "execution_count": 21,
   "id": "6e23bc86-451a-4938-8f56-3af3de1807b0",
   "metadata": {},
   "outputs": [
    {
     "name": "stdout",
     "output_type": "stream",
     "text": [
      "17\n"
     ]
    }
   ],
   "source": [
    "print(num1^num2)"
   ]
  },
  {
   "cell_type": "markdown",
   "id": "984c0ca7-0991-4082-b2f7-bdf6d4b358d0",
   "metadata": {},
   "source": [
    "### 17. Perform bitwise NOT operation on a number using the bitwise NOT operator."
   ]
  },
  {
   "cell_type": "code",
   "execution_count": 22,
   "id": "7f9ba860-f246-4874-bd3c-0fd91100166b",
   "metadata": {},
   "outputs": [
    {
     "name": "stdout",
     "output_type": "stream",
     "text": [
      "-21\n"
     ]
    }
   ],
   "source": [
    "print(~num1)"
   ]
  },
  {
   "cell_type": "markdown",
   "id": "38dc1f08-6082-47bd-a4d4-81b42c9e2787",
   "metadata": {},
   "source": [
    "### 18. Perform left shift operation on a number using the left shift operator."
   ]
  },
  {
   "cell_type": "code",
   "execution_count": 23,
   "id": "c9dc67d0-5f7f-49d6-b3c4-fa7a270cb108",
   "metadata": {},
   "outputs": [
    {
     "name": "stdout",
     "output_type": "stream",
     "text": [
      "80\n"
     ]
    }
   ],
   "source": [
    "print(num1<<2)"
   ]
  },
  {
   "cell_type": "markdown",
   "id": "31394c1f-c0bf-423b-8cb9-c4469e4be357",
   "metadata": {},
   "source": [
    "### 19. Perform right shift operation on a number using the right shift operator."
   ]
  },
  {
   "cell_type": "code",
   "execution_count": 24,
   "id": "d56c52ab-c301-41a2-a57d-5ccd6bb3343e",
   "metadata": {},
   "outputs": [
    {
     "name": "stdout",
     "output_type": "stream",
     "text": [
      "5\n"
     ]
    }
   ],
   "source": [
    "print(num1>>2)"
   ]
  },
  {
   "cell_type": "markdown",
   "id": "e68504e2-b2dc-49d4-a98c-126c3684433d",
   "metadata": {},
   "source": [
    "### 20. Use logical operators to check if a string contains both 'a' and 'b'. let the string = 'abcde'"
   ]
  },
  {
   "cell_type": "code",
   "execution_count": 25,
   "id": "239e8027-20d4-4c5b-afdb-4070584bb87e",
   "metadata": {},
   "outputs": [
    {
     "name": "stdout",
     "output_type": "stream",
     "text": [
      "True\n"
     ]
    }
   ],
   "source": [
    "string = 'abcde'\n",
    "ab=('a' in string) and ('b' in string)\n",
    "print(ab)"
   ]
  },
  {
   "cell_type": "code",
   "execution_count": null,
   "id": "237808b2-004c-442f-863c-3580760ee602",
   "metadata": {},
   "outputs": [],
   "source": []
  }
 ],
 "metadata": {
  "kernelspec": {
   "display_name": "Python 3 (ipykernel)",
   "language": "python",
   "name": "python3"
  },
  "language_info": {
   "codemirror_mode": {
    "name": "ipython",
    "version": 3
   },
   "file_extension": ".py",
   "mimetype": "text/x-python",
   "name": "python",
   "nbconvert_exporter": "python",
   "pygments_lexer": "ipython3",
   "version": "3.11.7"
  }
 },
 "nbformat": 4,
 "nbformat_minor": 5
}
